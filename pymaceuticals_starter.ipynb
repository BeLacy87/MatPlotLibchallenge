{
 "cells": [
  {
   "cell_type": "markdown",
   "metadata": {},
   "source": [
    "## Observations and Insights"
   ]
  },
  {
   "cell_type": "markdown",
   "metadata": {},
   "source": []
  },
  {
   "cell_type": "markdown",
   "metadata": {},
   "source": [
    "## Dependencies and starter code"
   ]
  },
  {
   "cell_type": "code",
   "execution_count": 1,
   "metadata": {},
   "outputs": [],
   "source": [
    "# Dependencies and Setup\n",
    "import matplotlib.pyplot as plt\n",
    "import pandas as pd\n",
    "import scipy.stats as st\n",
    "import numpy as np\n",
    "from scipy.stats import sem\n",
    "from scipy.stats import linregress\n",
    "\n",
    "# Study data files\n",
    "mouse_metadata = \"../data/Mouse_metadata.csv\"\n",
    "study_results = \"../data/Study_results.csv\"\n",
    "\n",
    "# Read the mouse data and the study results\n",
    "mm = pd.read_csv(mouse_metadata)\n",
    "sr = pd.read_csv(study_results)\n",
    "\n",
    "# Combine the data into a single dataset\n",
    "merge_table=pd.merge(mm,sr, on=\"Mouse ID\")\n",
    "merge_table_df=pd.DataFrame(merge_table)\n",
    "# merge_table.to_csv(\"merge_table.csv\", header=True)"
   ]
  },
  {
   "cell_type": "markdown",
   "metadata": {},
   "source": [
    "## Summary statistics"
   ]
  },
  {
   "cell_type": "code",
   "execution_count": 2,
   "metadata": {},
   "outputs": [],
   "source": [
    "# Generate a summary statistics table of mean, median, \n",
    "#variance, standard deviation, and SEM of the tumor volume for each regimen"
   ]
  },
  {
   "cell_type": "code",
   "execution_count": 3,
   "metadata": {},
   "outputs": [
    {
     "data": {
      "text/html": [
       "<div>\n",
       "<style scoped>\n",
       "    .dataframe tbody tr th:only-of-type {\n",
       "        vertical-align: middle;\n",
       "    }\n",
       "\n",
       "    .dataframe tbody tr th {\n",
       "        vertical-align: top;\n",
       "    }\n",
       "\n",
       "    .dataframe thead th {\n",
       "        text-align: right;\n",
       "    }\n",
       "</style>\n",
       "<table border=\"1\" class=\"dataframe\">\n",
       "  <thead>\n",
       "    <tr style=\"text-align: right;\">\n",
       "      <th></th>\n",
       "      <th>Mean Tumor Volume</th>\n",
       "      <th>Median Tumor Volume</th>\n",
       "      <th>Variance</th>\n",
       "      <th>Std Dev</th>\n",
       "      <th>Standard Error</th>\n",
       "    </tr>\n",
       "    <tr>\n",
       "      <th>Drug Regimen</th>\n",
       "      <th></th>\n",
       "      <th></th>\n",
       "      <th></th>\n",
       "      <th></th>\n",
       "      <th></th>\n",
       "    </tr>\n",
       "  </thead>\n",
       "  <tbody>\n",
       "    <tr>\n",
       "      <th>Capomulin</th>\n",
       "      <td>40.676</td>\n",
       "      <td>41.558</td>\n",
       "      <td>24.948</td>\n",
       "      <td>4.995</td>\n",
       "      <td>0.329</td>\n",
       "    </tr>\n",
       "    <tr>\n",
       "      <th>Ceftamin</th>\n",
       "      <td>52.591</td>\n",
       "      <td>51.776</td>\n",
       "      <td>39.290</td>\n",
       "      <td>6.268</td>\n",
       "      <td>0.470</td>\n",
       "    </tr>\n",
       "    <tr>\n",
       "      <th>Infubinol</th>\n",
       "      <td>52.885</td>\n",
       "      <td>51.821</td>\n",
       "      <td>43.129</td>\n",
       "      <td>6.567</td>\n",
       "      <td>0.492</td>\n",
       "    </tr>\n",
       "    <tr>\n",
       "      <th>Ketapril</th>\n",
       "      <td>55.236</td>\n",
       "      <td>53.699</td>\n",
       "      <td>68.554</td>\n",
       "      <td>8.280</td>\n",
       "      <td>0.604</td>\n",
       "    </tr>\n",
       "    <tr>\n",
       "      <th>Naftisol</th>\n",
       "      <td>54.332</td>\n",
       "      <td>52.509</td>\n",
       "      <td>66.173</td>\n",
       "      <td>8.135</td>\n",
       "      <td>0.596</td>\n",
       "    </tr>\n",
       "    <tr>\n",
       "      <th>Placebo</th>\n",
       "      <td>54.034</td>\n",
       "      <td>52.289</td>\n",
       "      <td>61.168</td>\n",
       "      <td>7.821</td>\n",
       "      <td>0.581</td>\n",
       "    </tr>\n",
       "    <tr>\n",
       "      <th>Propriva</th>\n",
       "      <td>52.323</td>\n",
       "      <td>50.855</td>\n",
       "      <td>42.351</td>\n",
       "      <td>6.508</td>\n",
       "      <td>0.513</td>\n",
       "    </tr>\n",
       "    <tr>\n",
       "      <th>Ramicane</th>\n",
       "      <td>40.217</td>\n",
       "      <td>40.673</td>\n",
       "      <td>23.487</td>\n",
       "      <td>4.846</td>\n",
       "      <td>0.321</td>\n",
       "    </tr>\n",
       "    <tr>\n",
       "      <th>Stelasyn</th>\n",
       "      <td>54.233</td>\n",
       "      <td>52.432</td>\n",
       "      <td>59.451</td>\n",
       "      <td>7.710</td>\n",
       "      <td>0.573</td>\n",
       "    </tr>\n",
       "    <tr>\n",
       "      <th>Zoniferol</th>\n",
       "      <td>53.237</td>\n",
       "      <td>51.818</td>\n",
       "      <td>48.533</td>\n",
       "      <td>6.967</td>\n",
       "      <td>0.516</td>\n",
       "    </tr>\n",
       "  </tbody>\n",
       "</table>\n",
       "</div>"
      ],
      "text/plain": [
       "              Mean Tumor Volume  Median Tumor Volume  Variance  Std Dev  \\\n",
       "Drug Regimen                                                              \n",
       "Capomulin                40.676               41.558    24.948    4.995   \n",
       "Ceftamin                 52.591               51.776    39.290    6.268   \n",
       "Infubinol                52.885               51.821    43.129    6.567   \n",
       "Ketapril                 55.236               53.699    68.554    8.280   \n",
       "Naftisol                 54.332               52.509    66.173    8.135   \n",
       "Placebo                  54.034               52.289    61.168    7.821   \n",
       "Propriva                 52.323               50.855    42.351    6.508   \n",
       "Ramicane                 40.217               40.673    23.487    4.846   \n",
       "Stelasyn                 54.233               52.432    59.451    7.710   \n",
       "Zoniferol                53.237               51.818    48.533    6.967   \n",
       "\n",
       "              Standard Error  \n",
       "Drug Regimen                  \n",
       "Capomulin              0.329  \n",
       "Ceftamin               0.470  \n",
       "Infubinol              0.492  \n",
       "Ketapril               0.604  \n",
       "Naftisol               0.596  \n",
       "Placebo                0.581  \n",
       "Propriva               0.513  \n",
       "Ramicane               0.321  \n",
       "Stelasyn               0.573  \n",
       "Zoniferol              0.516  "
      ]
     },
     "execution_count": 3,
     "metadata": {},
     "output_type": "execute_result"
    }
   ],
   "source": [
    "#group customers by drug regimen\n",
    "regimen=merge_table.groupby([\"Drug Regimen\"])\n",
    "\n",
    "mean=regimen['Tumor Volume (mm3)'].mean()\n",
    "median=regimen['Tumor Volume (mm3)'].median()\n",
    "variance =regimen['Tumor Volume (mm3)'].var()\n",
    "std_dev=regimen['Tumor Volume (mm3)'].std()\n",
    "SEM=regimen['Tumor Volume (mm3)'].sem()\n",
    "\n",
    "#set the above into a dictionary\n",
    "dict1={\"Mean Tumor Volume\": mean,\n",
    "                       \"Median Tumor Volume\": median,\n",
    "                       \"Variance\" :variance,\n",
    "                       \"Std Dev\": std_dev, \"Standard Error\" : SEM}\n",
    "\n",
    "#run dictionary as a df and apply formatting\n",
    "report_1=pd.DataFrame(dict1)\n",
    "report_1[\"Mean Tumor Volume\"]=round(report_1[\"Mean Tumor Volume\"],3)\n",
    "report_1[\"Median Tumor Volume\"]=round(report_1[\"Median Tumor Volume\"],3)\n",
    "report_1[\"Variance\"]=round(report_1[\"Variance\"],3)\n",
    "report_1[\"Std Dev\"]=round(report_1[\"Std Dev\"],3)\n",
    "report_1[\"Standard Error\"]=round(report_1[\"Standard Error\"],3)\n",
    "report_1                                                               "
   ]
  },
  {
   "cell_type": "markdown",
   "metadata": {},
   "source": [
    "## Bar plots"
   ]
  },
  {
   "cell_type": "code",
   "execution_count": 4,
   "metadata": {},
   "outputs": [
    {
     "data": {
      "image/png": "[encoded data removed]",
      "text/plain": [
       "<Figure size 432x288 with 1 Axes>"
      ]
     },
     "metadata": {
      "needs_background": "light"
     },
     "output_type": "display_data"
    }
   ],
   "source": [
    "# Generate a bar plot showing number of data points for each treatment regimen using pandas\n",
    "regimen_df=pd.DataFrame(regimen.count())\n",
    "regimen_df=regimen_df.loc[: , \"Mouse ID\"]\n",
    "regimen_df.plot(kind='bar')\n",
    "\n",
    "plt.xticks(rotation=45)\n",
    "plt.ylabel(\"Number of data points\")\n",
    "plt.title(\"Data Points Per Regimen\")\n",
    "plt.show()"
   ]
  },
  {
   "cell_type": "code",
   "execution_count": 5,
   "metadata": {},
   "outputs": [
    {
     "data": {
      "image/png": "[encoded data removed]",
      "text/plain": [
       "<Figure size 432x288 with 1 Axes>"
      ]
     },
     "metadata": {
      "needs_background": "light"
     },
     "output_type": "display_data"
    }
   ],
   "source": [
    "# Generate a bar plot showing number of data points for each treatment regimen using pyplot\n",
    "x_axis=np.arange(len(regimen_df))\n",
    "ticks=[i for i in x_axis]\n",
    "plt.bar(x_axis, regimen_df)\n",
    "plt.xticks(ticks, regimen_df.index.values, rotation=45)\n",
    "plt.show()"
   ]
  },
  {
   "cell_type": "markdown",
   "metadata": {},
   "source": [
    "## Pie plots"
   ]
  },
  {
   "cell_type": "code",
   "execution_count": null,
   "metadata": {},
   "outputs": [],
   "source": [
    "#I think I ended up compiling both with pandas--I am unclear of the difference"
   ]
  },
  {
   "cell_type": "code",
   "execution_count": 6,
   "metadata": {},
   "outputs": [
    {
     "data": {
      "image/png": "[encoded data removed]",
      "text/plain": [
       "<Figure size 432x288 with 1 Axes>"
      ]
     },
     "metadata": {},
     "output_type": "display_data"
    }
   ],
   "source": [
    "# Generate a pie plot showing the distribution of female versus male mice using pandas\n",
    "gender=merge_table.groupby(['Sex'])\n",
    "gender_df=pd.DataFrame(gender.count())\n",
    "gender1_df=gender_df.loc[: , \"Mouse ID\"]\n",
    "\n",
    "plt.pie(gender1_df, labels=gender1_df.index.values, autopct=\"%1.1f%%\")\n",
    "plt.title(\"Percentage of Mice in Study by Gender\")\n",
    "\n",
    "plt.show()\n"
   ]
  },
  {
   "cell_type": "code",
   "execution_count": 7,
   "metadata": {},
   "outputs": [
    {
     "data": {
      "image/png": "[encoded data removed]",
      "text/plain": [
       "<Figure size 432x288 with 1 Axes>"
      ]
     },
     "metadata": {},
     "output_type": "display_data"
    }
   ],
   "source": [
    "# Generate a pie plot showing the distribution of female versus male mice using pyplot\n",
    "#group customers by gender\n",
    "gender=merge_table.groupby([\"Sex\"])\n",
    "gender_df=pd.DataFrame(gender.count())\n",
    "colors=['yellow', 'green']\n",
    "plt.pie(gender_df['Mouse ID'], labels=gender_df.index.values, colors=colors, autopct=\"%1.1f%%\")\n",
    "plt.axis(\"equal\")\n",
    "plt.title(\"Percentage of Mice in Study by Gender\")\n",
    "plt.show()"
   ]
  },
  {
   "cell_type": "markdown",
   "metadata": {},
   "source": [
    "## Quartiles, outliers and boxplots"
   ]
  },
  {
   "cell_type": "code",
   "execution_count": 27,
   "metadata": {},
   "outputs": [],
   "source": [
    "# Calculate the final tumor volume of each mouse across four of the most promising treatment regimens. \n",
    "# Calculate the IQR and quantitatively determine if there are any potential outliers. \n",
    "\n",
    "#This entire cell was derived from \"https://github.com/shrawantee/Matplotlib-Pymaceuticals/blob/master/HW5_pymaceuticals_DS.ipynb\"\n",
    "#I could not get it started on my own\n",
    "combine_group_mean = merge_table.groupby([\"Drug Regimen\",\"Timepoint\"]).mean()\n",
    "combine_group_mean.reset_index(level = None, inplace = True)\n",
    "# Convert to DataFrame\n",
    "tumor_response_mean_df = pd.DataFrame(combine_group_mean)\n",
    "pivot_table = tumor_response_mean_df.pivot(index =\"Timepoint\", columns = 'Drug Regimen', values = \"Tumor Volume (mm3)\")\n",
    "pivot_table.reset_index(level = None, inplace = True)"
   ]
  },
  {
   "cell_type": "code",
   "execution_count": 9,
   "metadata": {},
   "outputs": [],
   "source": [
    "#This was manually calculated by viewing 'pivot_table' as an .xlsx and manually computing the difference.\n",
    "#I'm sure there is a much more eloquent method--but here we are.\n",
    "top_four = pivot_table[[\"Timepoint\", \"Capomulin\", \"Infubinol\", \"Ceftamin\", \"Ramicane\"]]"
   ]
  },
  {
   "cell_type": "code",
   "execution_count": 10,
   "metadata": {},
   "outputs": [
    {
     "name": "stderr",
     "output_type": "stream",
     "text": [
      "c:\\users\\belac\\appdata\\local\\programs\\python\\python37-32\\lib\\site-packages\\pandas\\core\\frame.py:4133: SettingWithCopyWarning: \n",
      "A value is trying to be set on a copy of a slice from a DataFrame\n",
      "\n",
      "See the caveats in the documentation: https://pandas.pydata.org/pandas-docs/stable/user_guide/indexing.html#returning-a-view-versus-a-copy\n",
      "  errors=errors,\n"
     ]
    },
    {
     "data": {
      "text/html": [
       "<div>\n",
       "<style scoped>\n",
       "    .dataframe tbody tr th:only-of-type {\n",
       "        vertical-align: middle;\n",
       "    }\n",
       "\n",
       "    .dataframe tbody tr th {\n",
       "        vertical-align: top;\n",
       "    }\n",
       "\n",
       "    .dataframe thead th {\n",
       "        text-align: right;\n",
       "    }\n",
       "</style>\n",
       "<table border=\"1\" class=\"dataframe\">\n",
       "  <thead>\n",
       "    <tr style=\"text-align: right;\">\n",
       "      <th></th>\n",
       "      <th>Mouse ID</th>\n",
       "      <th>Drug Regimen</th>\n",
       "      <th>Final Tumor Volume (mm3)</th>\n",
       "    </tr>\n",
       "  </thead>\n",
       "  <tbody>\n",
       "    <tr>\n",
       "      <th>9</th>\n",
       "      <td>k403</td>\n",
       "      <td>Ramicane</td>\n",
       "      <td>22.050126</td>\n",
       "    </tr>\n",
       "    <tr>\n",
       "      <th>19</th>\n",
       "      <td>s185</td>\n",
       "      <td>Capomulin</td>\n",
       "      <td>23.343598</td>\n",
       "    </tr>\n",
       "    <tr>\n",
       "      <th>29</th>\n",
       "      <td>x401</td>\n",
       "      <td>Capomulin</td>\n",
       "      <td>28.484033</td>\n",
       "    </tr>\n",
       "    <tr>\n",
       "      <th>39</th>\n",
       "      <td>m601</td>\n",
       "      <td>Capomulin</td>\n",
       "      <td>28.430964</td>\n",
       "    </tr>\n",
       "    <tr>\n",
       "      <th>49</th>\n",
       "      <td>g791</td>\n",
       "      <td>Ramicane</td>\n",
       "      <td>29.128472</td>\n",
       "    </tr>\n",
       "    <tr>\n",
       "      <th>...</th>\n",
       "      <td>...</td>\n",
       "      <td>...</td>\n",
       "      <td>...</td>\n",
       "    </tr>\n",
       "    <tr>\n",
       "      <th>1797</th>\n",
       "      <td>x822</td>\n",
       "      <td>Ceftamin</td>\n",
       "      <td>61.386660</td>\n",
       "    </tr>\n",
       "    <tr>\n",
       "      <th>1813</th>\n",
       "      <td>y163</td>\n",
       "      <td>Infubinol</td>\n",
       "      <td>67.685569</td>\n",
       "    </tr>\n",
       "    <tr>\n",
       "      <th>1845</th>\n",
       "      <td>y769</td>\n",
       "      <td>Ceftamin</td>\n",
       "      <td>68.594745</td>\n",
       "    </tr>\n",
       "    <tr>\n",
       "      <th>1855</th>\n",
       "      <td>y865</td>\n",
       "      <td>Ceftamin</td>\n",
       "      <td>64.729837</td>\n",
       "    </tr>\n",
       "    <tr>\n",
       "      <th>1872</th>\n",
       "      <td>z581</td>\n",
       "      <td>Infubinol</td>\n",
       "      <td>62.754451</td>\n",
       "    </tr>\n",
       "  </tbody>\n",
       "</table>\n",
       "<p>63 rows × 3 columns</p>\n",
       "</div>"
      ],
      "text/plain": [
       "     Mouse ID Drug Regimen  Final Tumor Volume (mm3)\n",
       "9        k403     Ramicane                 22.050126\n",
       "19       s185    Capomulin                 23.343598\n",
       "29       x401    Capomulin                 28.484033\n",
       "39       m601    Capomulin                 28.430964\n",
       "49       g791     Ramicane                 29.128472\n",
       "...       ...          ...                       ...\n",
       "1797     x822     Ceftamin                 61.386660\n",
       "1813     y163    Infubinol                 67.685569\n",
       "1845     y769     Ceftamin                 68.594745\n",
       "1855     y865     Ceftamin                 64.729837\n",
       "1872     z581    Infubinol                 62.754451\n",
       "\n",
       "[63 rows x 3 columns]"
      ]
     },
     "execution_count": 10,
     "metadata": {},
     "output_type": "execute_result"
    }
   ],
   "source": [
    "#Filters the above pivot table on the four drug types, as well as down to the final timepoint for all mice\n",
    "#I would like to figure out which of these steps I can combine.\n",
    "top_four1=merge_table.loc[(merge_table[\"Drug Regimen\"]=='Capomulin')|(merge_table[\"Drug Regimen\"]=='Infubinol')|(merge_table[\"Drug Regimen\"]=='Ceftamin')|(merge_table[\"Drug Regimen\"]=='Ramicane')]\n",
    "top_four2=top_four1.loc[top_four1[\"Timepoint\"]==45]\n",
    "top_four3=top_four2[['Mouse ID','Drug Regimen','Tumor Volume (mm3)']]\n",
    "top_four3.rename(columns = {'Tumor Volume (mm3)':'Final Tumor Volume (mm3)'}, inplace = True) \n",
    "top_four3"
   ]
  },
  {
   "cell_type": "code",
   "execution_count": 11,
   "metadata": {},
   "outputs": [
    {
     "data": {
      "image/png": "[encoded data removed]",
      "text/plain": [
       "<Figure size 432x288 with 1 Axes>"
      ]
     },
     "metadata": {
      "needs_background": "light"
     },
     "output_type": "display_data"
    }
   ],
   "source": [
    "# Generate a box plot of the final tumor volume of each mouse across four regimens of interest\n",
    "box_plot=top_four3.boxplot(column=['Final Tumor Volume (mm3)'],by=['Drug Regimen'])\n",
    "plt.suptitle(\"\")\n",
    "plt.ylabel('Volume in mm3')\n",
    "plt.show()"
   ]
  },
  {
   "cell_type": "markdown",
   "metadata": {},
   "source": [
    "## Line and scatter plots"
   ]
  },
  {
   "cell_type": "code",
   "execution_count": 12,
   "metadata": {},
   "outputs": [
    {
     "data": {
      "image/png": "[encoded data removed]",
      "text/plain": [
       "<Figure size 432x288 with 1 Axes>"
      ]
     },
     "metadata": {
      "needs_background": "light"
     },
     "output_type": "display_data"
    }
   ],
   "source": [
    "# Generate a line plot of time point versus tumor volume for a mouse treated with Capomulin\n",
    "CPM_df=merge_table.loc[merge_table['Drug Regimen']=='Capomulin']\n",
    "s185_df=CPM_df.loc[CPM_df['Mouse ID']=='s185']\n",
    "s185_df.plot(kind='line',x='Timepoint', y='Tumor Volume (mm3)')\n",
    "plt.title(\"Tumor Volume vs Time for Subject s185\")\n",
    "plt.ylabel(\"Tumor Volume (mm3\")\n",
    "plt.show()"
   ]
  },
  {
   "cell_type": "code",
   "execution_count": 13,
   "metadata": {},
   "outputs": [
    {
     "data": {
      "image/png": "[encoded data removed]",
      "text/plain": [
       "<Figure size 432x288 with 1 Axes>"
      ]
     },
     "metadata": {
      "needs_background": "light"
     },
     "output_type": "display_data"
    }
   ],
   "source": [
    "# Generate a scatter plot of mouse weight versus average tumor volume for the Capomulin regimen\n",
    "CPM_df.plot(kind='scatter',x='Weight (g)', y='Tumor Volume (mm3)')\n",
    "plt.title(\"Correlation Between Mouse Weight and Tumor Volume\")\n",
    "plt.show()\n",
    "#QUESTION: need to average all tumor volume across all 10 timepoints for each mouse?  or use all timepoints?\n"
   ]
  },
  {
   "cell_type": "code",
   "execution_count": 14,
   "metadata": {},
   "outputs": [
    {
     "name": "stdout",
     "output_type": "stream",
     "text": [
      "Pearson R: 0.53\n"
     ]
    },
    {
     "data": {
      "image/png": "[encoded data removed]",
      "text/plain": [
       "<Figure size 432x288 with 1 Axes>"
      ]
     },
     "metadata": {
      "needs_background": "light"
     },
     "output_type": "display_data"
    }
   ],
   "source": [
    "# Calculate the correlation coefficient and linear regression model \n",
    "#for mouse weight and average tumor volume for the Capomulin regimen\n",
    "\n",
    "axis_x=CPM_df.loc[:,'Weight (g)']\n",
    "axis_y=CPM_df.loc[:,'Tumor Volume (mm3)']\n",
    "correlation=st.pearsonr(axis_x, axis_y)\n",
    "print(f\"Pearson R: {round(correlation[0],2)}\")\n",
    "plt.scatter(axis_x, axis_y)\n",
    "(slope, intercept, rvalue, pvalue, stderr)=linregress(axis_x,axis_y)\n",
    "regress_values=axis_x*slope+intercept\n",
    "plt.plot(axis_x,regress_values, \"r-\")\n",
    "line_eq=\"y=\" + str(round(slope,2)) + \"x+\" + str(round(intercept,2))\n",
    "plt.annotate(line_eq, (20,30))\n",
    "\n",
    "plt.title(\"Correlation Between Mouse Weight and Tumor Volume\")\n",
    "plt.xlabel(\"Weight\")\n",
    "plt.ylabel(\"Tumor Volume (mm3)\")\n",
    "plt.show()"
   ]
  },
  {
   "cell_type": "code",
   "execution_count": null,
   "metadata": {},
   "outputs": [],
   "source": []
  }
 ],
 "metadata": {
  "anaconda-cloud": {},
  "kernelspec": {
   "display_name": "Python 3",
   "language": "python",
   "name": "python3"
  },
  "language_info": {
   "codemirror_mode": {
    "name": "ipython",
    "version": 3
   },
   "file_extension": ".py",
   "mimetype": "text/x-python",
   "name": "python",
   "nbconvert_exporter": "python",
   "pygments_lexer": "ipython3",
   "version": "3.7.2"
  }
 },
 "nbformat": 4,
 "nbformat_minor": 2
}
